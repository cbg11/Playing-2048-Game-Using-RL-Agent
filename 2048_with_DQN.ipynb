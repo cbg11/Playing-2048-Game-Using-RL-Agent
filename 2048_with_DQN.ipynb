{
  "nbformat": 4,
  "nbformat_minor": 0,
  "metadata": {
    "colab": {
      "provenance": [],
      "include_colab_link": true
    },
    "kernelspec": {
      "name": "python3",
      "display_name": "Python 3"
    },
    "language_info": {
      "name": "python"
    },
    "accelerator": "GPU",
    "gpuClass": "standard"
  },
  "cells": [
    {
      "cell_type": "markdown",
      "metadata": {
        "id": "view-in-github",
        "colab_type": "text"
      },
      "source": [
        "<a href=\"https://colab.research.google.com/github/cbg11/Playing-2048-Game-Using-RL-Agent/blob/main/2048_with_DQN.ipynb\" target=\"_parent\"><img src=\"https://colab.research.google.com/assets/colab-badge.svg\" alt=\"Open In Colab\"/></a>"
      ]
    },
    {
      "cell_type": "code",
      "execution_count": 34,
      "metadata": {
        "id": "xzaUg3iS-QiZ"
      },
      "outputs": [],
      "source": [
        "import numpy as np\n",
        "import torch\n",
        "import torch.nn as nn\n",
        "import torch.optim as optim\n",
        "import random\n",
        "import time\n",
        "from IPython.display import clear_output\n",
        "import matplotlib.pyplot as plt"
      ]
    },
    {
      "cell_type": "code",
      "source": [
        "# Path to save file\n",
        "import pathlib\n",
        "from google.colab import drive\n",
        "drive.mount('/content/drive/', force_remount=True)\n",
        "%cd /content/drive/My Drive/RL_project"
      ],
      "metadata": {
        "colab": {
          "base_uri": "https://localhost:8080/"
        },
        "id": "d8zVrLdJ-etE",
        "outputId": "8fb0d9f6-2648-499f-964b-0beeac2ca7e5"
      },
      "execution_count": 2,
      "outputs": [
        {
          "output_type": "stream",
          "name": "stdout",
          "text": [
            "Mounted at /content/drive/\n",
            "/content/drive/My Drive/RL_project\n"
          ]
        }
      ]
    },
    {
      "cell_type": "code",
      "source": [
        "class Game:\n",
        "    def __init__(self):\n",
        "        self.board = np.zeros((4, 4), dtype=np.int32)\n",
        "        self.score = 0\n",
        "        self.game_over = False\n",
        "        self.add_tile()\n",
        "        self.add_tile()\n",
        "\n",
        "    def add_tile(self):\n",
        "        empty_cells = np.where(self.board == 0)\n",
        "        if len(empty_cells[0]) == 0:\n",
        "            return\n",
        "        idx = random.choice(range(len(empty_cells[0])))\n",
        "        value = 2 if random.random() < 0.9 else 4\n",
        "        self.board[empty_cells[0][idx], empty_cells[1][idx]] = value\n",
        "\n",
        "    def move(self, direction):\n",
        "        if direction == 'left':\n",
        "            self.board, moved, reward = move_left(self.board)\n",
        "        elif direction == 'right':\n",
        "            self.board, moved, reward = move_right(self.board)\n",
        "        elif direction == 'up':\n",
        "            self.board, moved, reward = move_up(self.board)\n",
        "        elif direction == 'down':\n",
        "            self.board, moved, reward = move_down(self.board)\n",
        "\n",
        "        if moved:\n",
        "            self.add_tile()\n",
        "            self.score += reward\n",
        "        if (np.count_nonzero(self.board) == 16) and (np.all(self.board[:, :-1] != self.board[:, 1:]) and np.all(self.board[:-1, :] != self.board[1:, :])):\n",
        "            self.game_over = True\n",
        "        return moved, reward\n"
      ],
      "metadata": {
        "id": "vr1vRzx2-kWS"
      },
      "execution_count": 3,
      "outputs": []
    },
    {
      "cell_type": "code",
      "source": [
        "class DQNAgent:\n",
        "    def __init__(self, n_observations = 16, action_size = 4, gamma=0.99, epsilon=1.0, epsilon_decay=0.999, epsilon_min=0.01, learning_rate=0.001, memory_size=100_000):\n",
        "        self.n_observations = n_observations\n",
        "        self.action_size = action_size\n",
        "        self.gamma = gamma\n",
        "        self.epsilon = epsilon\n",
        "        self.epsilon_decay = epsilon_decay\n",
        "        self.epsilon_min = epsilon_min\n",
        "        self.learning_rate = learning_rate\n",
        "        self.memory = []\n",
        "        self.memory_size = memory_size\n",
        "        self.model = DQN(self.n_observations,self.action_size)\n",
        "        self.optimizer = optim.Adam(self.model.parameters(), lr=self.learning_rate)\n",
        "        self.loss_fn = nn.MSELoss()\n",
        "\n",
        "    def remember(self, state, action, reward, next_state, done):\n",
        "        self.memory.append((state, action, reward, next_state, done))\n",
        "        if len(self.memory) > self.memory_size:\n",
        "            del self.memory[0]\n",
        "\n",
        "    def act(self, state, epsilon = None):\n",
        "        if epsilon == None:\n",
        "          epsilon = self.epsilon\n",
        "        else:\n",
        "          epsilon = epsilon\n",
        "        if np.random.rand() < epsilon:\n",
        "            # Explore\n",
        "            return random.randrange(self.action_size)\n",
        "        else:\n",
        "            # Exploit best known action\n",
        "            state = torch.tensor(state, dtype=torch.float32).unsqueeze(0)\n",
        "            q_values = self.model(state)\n",
        "            return torch.argmax(q_values, dim=1).item()\n",
        "\n",
        "\n",
        "    def replay(self, batch_size):\n",
        "        if len(self.memory) < batch_size:\n",
        "            return\n",
        "        batch = random.sample(self.memory, batch_size)\n",
        "        states, actions, rewards, next_states, dones = zip(*batch)\n",
        "        states = torch.tensor(states, dtype=torch.float32)\n",
        "        actions = torch.tensor(actions, dtype=torch.int64).unsqueeze(1)\n",
        "        rewards = torch.tensor(rewards, dtype=torch.float32).unsqueeze(1)\n",
        "        next_states = torch.tensor(next_states, dtype=torch.float32)\n",
        "        dones = torch.tensor(dones, dtype=torch.float32).unsqueeze(1)\n",
        "\n",
        "        q_values = self.model(states).gather(1, actions)\n",
        "        next_q_values = self.model(next_states)\n",
        "        max_next_q_values = torch.max(next_q_values, dim=1, keepdim=True)[0]\n",
        "        expected_q_values = rewards + self.gamma * max_next_q_values * (1 - dones)\n",
        "        loss = self.loss_fn(q_values, expected_q_values)\n",
        "        self.optimizer.zero_grad()\n",
        "        loss.backward()\n",
        "        self.optimizer.step()\n",
        "        if self.epsilon > self.epsilon_min:\n",
        "          self.epsilon *= self.epsilon_decay"
      ],
      "metadata": {
        "id": "URvUu42X-q25"
      },
      "execution_count": 4,
      "outputs": []
    },
    {
      "cell_type": "code",
      "source": [
        "class DQN(nn.Module):\n",
        "  def __init__(self, n_observations, action_size):\n",
        "    super(DQN, self).__init__()\n",
        "    self.fc1 = nn.Linear(n_observations, 128)\n",
        "    self.fc2 = nn.Linear(128, 64)\n",
        "    self.fc3 = nn.Linear(64, action_size)\n",
        "\n",
        "  def forward(self, x):\n",
        "    x = torch.relu(self.fc1(x))\n",
        "    x = torch.relu(self.fc2(x))\n",
        "    x = self.fc3(x)\n",
        "    return x\n",
        "\n",
        "def preprocess(board):\n",
        "  # Convert the board to a 1D array and take the logarithm of each tile value\n",
        "  board = np.log2(board.flatten() + 1)\n",
        "  # Normalize the board to have zero mean and unit variance\n",
        "  board = (board - board.mean()) / board.std()\n",
        "  return board\n",
        "  \n",
        "def move_left(board):\n",
        "  moved = False\n",
        "  score = 0\n",
        "  for row in range(4):\n",
        "    merged = np.zeros((4,), dtype=bool)\n",
        "    for col in range(1, 4):\n",
        "      if board[row, col] == 0:\n",
        "        continue\n",
        "      for i in range(col):\n",
        "        if board[row, i] == 0:\n",
        "          board[row, i] = board[row, col]\n",
        "          board[row, col] = 0\n",
        "          moved = True\n",
        "          break\n",
        "        elif board[row, i] == board[row, col] and not merged[i]:\n",
        "          board[row, i] *= 2\n",
        "          board[row, col] = 0\n",
        "          merged[i] = True\n",
        "          moved = True\n",
        "          score += board[row, i]\n",
        "          break\n",
        "  return board, moved, score\n",
        "\n",
        "def move_right(board):\n",
        "  board, moved, score = move_left(np.fliplr(board))\n",
        "  return np.fliplr(board), moved, score\n",
        "    \n",
        "def move_up(board):\n",
        "  board, moved, score = move_left(board.T)\n",
        "  return board.T, moved, score\n",
        "\n",
        "def move_down(board):\n",
        "  board, moved, score = move_right(board.T)\n",
        "  return board.T, moved, score\n",
        "\n",
        "def train(agent, episodes, batch_size):\n",
        "  scores = []\n",
        "  for episode in range(episodes):\n",
        "      game = Game()\n",
        "      state = preprocess(game.board)\n",
        "      done = False\n",
        "      while not done:\n",
        "        action = agent.act(state)\n",
        "        moved, reward = game.move(['left', 'up', 'right', 'down'][action])\n",
        "        while not moved:\n",
        "          rand_num = action\n",
        "          while rand_num == action:\n",
        "            rand_num = random.randrange(4)\n",
        "          action = rand_num\n",
        "          moved, reward = game.move(['left', 'up', 'right', 'down'][action])\n",
        "        next_state = preprocess(game.board)\n",
        "        done = game.game_over\n",
        "        agent.remember(state, action, reward, next_state, done)\n",
        "        state = next_state\n",
        "        agent.replay(batch_size)\n",
        "      #print(game.board)\n",
        "      scores.append(game.score)\n",
        "      max_val = max(max(row) for row in game.board)\n",
        "      print(\"Episode: %d, Score: %d, Max Value: %d Epsilon: %.4f\" % (episode, game.score, max_val, agent.epsilon))\n",
        "      if episode % 500 == 0:\n",
        "        torch.save(agent.model.state_dict(), 'model.pth')\n",
        "  return scores"
      ],
      "metadata": {
        "id": "T3XC986B-ty5"
      },
      "execution_count": 138,
      "outputs": []
    },
    {
      "cell_type": "code",
      "source": [
        "if __name__ == '__main__':\n",
        "  n_observations = 16\n",
        "  action_size = 4\n",
        "  agent = DQNAgent(n_observations, action_size, gamma=0.999)\n",
        "  scores = train(agent, episodes=5001, batch_size=32)\n",
        "  print(\"done\")"
      ],
      "metadata": {
        "id": "dht7KkW2-vy8"
      },
      "execution_count": null,
      "outputs": []
    },
    {
      "cell_type": "code",
      "source": [
        "# Define a function to display the game board and score\n",
        "def display_board(score, action, grid):\n",
        "    print(f\"\\033[1m\" + \"Score: \", score, \"\\t Action: \"+ action+ \"\\033[0m\")\n",
        "    print(\"+-------+-------+-------+-------+\\n\"\n",
        "          \"|\\t|\\t|\\t|\\t|\\n\"\n",
        "          \"|  {}\\t|  {}\\t|  {}\\t|  {}\\t|\\n\"\n",
        "          \"|\\t|\\t|\\t|\\t|\\n\"\n",
        "          \"+-------+-------+-------+-------+\\n\"\n",
        "          \"|\\t|\\t|\\t|\\t|\\n\"\n",
        "          \"|  {}\\t|  {}\\t|  {}\\t|  {}\\t|\\n\"\n",
        "          \"|\\t|\\t|\\t|\\t|\\n\"\n",
        "          \"+-------+-------+-------+-------+\\n\"\n",
        "          \"|\\t|\\t|\\t|\\t|\\n\"\n",
        "          \"|  {}\\t|  {}\\t|  {}\\t|  {}\\t|\\n\"\n",
        "          \"|\\t|\\t|\\t|\\t|\\n\"\n",
        "          \"+-------+-------+-------+-------+\\n\"\n",
        "          \"|\\t|\\t|\\t|\\t|\\n\"\n",
        "          \"|  {}\\t|  {}\\t|  {}\\t|  {}\\t|\\n\"\n",
        "          \"|\\t|\\t|\\t|\\t|\\n\"\n",
        "          \"+-------+-------+-------+-------+\\n\".format(*[x if x != 0 else \"\" for row in grid for x in row]))\n",
        "def test(agent):\n",
        "    game = Game()\n",
        "    state = preprocess(game.board)\n",
        "    done = False\n",
        "    while not done:\n",
        "        action = agent.act(state, epsilon=0)  # set epsilon=0 to disable exploration\n",
        "        act =['left', 'up', 'right', 'down'][action]\n",
        "        moved, reward = game.move(act)\n",
        "        if not moved:\n",
        "          rand_num = action\n",
        "          while rand_num == action:\n",
        "            rand_num = random.randrange(4)\n",
        "          act =['left', 'up', 'right', 'down'][rand_num]\n",
        "          moved, reward = game.move(act)\n",
        "        state = preprocess(game.board)\n",
        "        done = game.game_over\n",
        "    return game.score, game.board"
      ],
      "metadata": {
        "id": "stAEjn0E-x7F"
      },
      "execution_count": 23,
      "outputs": []
    },
    {
      "cell_type": "code",
      "source": [
        "if __name__ == '__main__':\n",
        "    n_observations = 16\n",
        "    action_size = 4\n",
        "    agent = DQNAgent(n_observations, action_size)\n",
        "    agent.model.load_state_dict(torch.load('modelv3.pth'))  # load the saved model\n",
        "    avg_score = 0\n",
        "    max_values = []\n",
        "    num_trials = 100\n",
        "    for i in range(num_trials):\n",
        "        score, board = test(agent)\n",
        "        max_val = max(max(row) for row in board)\n",
        "        max_values.append(max_val)\n",
        "        print(f'Trial {i+1}: score = {score} Maximum Value: {max_val}')\n",
        "        avg_score += score\n",
        "    avg_score /= num_trials\n",
        "    print(f'Average score over {num_trials} trials: {avg_score}')"
      ],
      "metadata": {
        "colab": {
          "base_uri": "https://localhost:8080/"
        },
        "id": "5e5mWDunPjo_",
        "outputId": "56955faa-93d8-45fe-81bf-8803ceebf902"
      },
      "execution_count": 140,
      "outputs": [
        {
          "output_type": "stream",
          "name": "stdout",
          "text": [
            "Trial 1: score = 12156 Maximum Value: 1024\n",
            "Trial 2: score = 14596 Maximum Value: 1024\n",
            "Trial 3: score = 12160 Maximum Value: 1024\n",
            "Trial 4: score = 6100 Maximum Value: 512\n",
            "Trial 5: score = 13660 Maximum Value: 1024\n",
            "Trial 6: score = 3428 Maximum Value: 256\n",
            "Trial 7: score = 16192 Maximum Value: 1024\n",
            "Trial 8: score = 25500 Maximum Value: 2048\n",
            "Trial 9: score = 7820 Maximum Value: 512\n",
            "Trial 10: score = 15200 Maximum Value: 1024\n",
            "Trial 11: score = 25500 Maximum Value: 2048\n",
            "Trial 12: score = 3304 Maximum Value: 256\n",
            "Trial 13: score = 16404 Maximum Value: 1024\n",
            "Trial 14: score = 14408 Maximum Value: 1024\n",
            "Trial 15: score = 6332 Maximum Value: 512\n",
            "Trial 16: score = 11864 Maximum Value: 1024\n",
            "Trial 17: score = 7076 Maximum Value: 512\n",
            "Trial 18: score = 15988 Maximum Value: 1024\n",
            "Trial 19: score = 12188 Maximum Value: 1024\n",
            "Trial 20: score = 7272 Maximum Value: 512\n",
            "Trial 21: score = 11304 Maximum Value: 1024\n",
            "Trial 22: score = 16060 Maximum Value: 1024\n",
            "Trial 23: score = 3180 Maximum Value: 256\n",
            "Trial 24: score = 16696 Maximum Value: 1024\n",
            "Trial 25: score = 11456 Maximum Value: 1024\n",
            "Trial 26: score = 15464 Maximum Value: 1024\n",
            "Trial 27: score = 14444 Maximum Value: 1024\n",
            "Trial 28: score = 27308 Maximum Value: 2048\n",
            "Trial 29: score = 16112 Maximum Value: 1024\n",
            "Trial 30: score = 7132 Maximum Value: 512\n",
            "Trial 31: score = 10952 Maximum Value: 1024\n",
            "Trial 32: score = 3544 Maximum Value: 256\n",
            "Trial 33: score = 4772 Maximum Value: 256\n",
            "Trial 34: score = 25484 Maximum Value: 2048\n",
            "Trial 35: score = 16640 Maximum Value: 1024\n",
            "Trial 36: score = 21452 Maximum Value: 2048\n",
            "Trial 37: score = 12492 Maximum Value: 1024\n",
            "Trial 38: score = 10604 Maximum Value: 1024\n",
            "Trial 39: score = 15152 Maximum Value: 1024\n",
            "Trial 40: score = 11776 Maximum Value: 1024\n",
            "Trial 41: score = 7416 Maximum Value: 512\n",
            "Trial 42: score = 25576 Maximum Value: 2048\n",
            "Trial 43: score = 16088 Maximum Value: 1024\n",
            "Trial 44: score = 16100 Maximum Value: 1024\n",
            "Trial 45: score = 15864 Maximum Value: 1024\n",
            "Trial 46: score = 6708 Maximum Value: 512\n",
            "Trial 47: score = 7176 Maximum Value: 512\n",
            "Trial 48: score = 11400 Maximum Value: 1024\n",
            "Trial 49: score = 23148 Maximum Value: 2048\n",
            "Trial 50: score = 6696 Maximum Value: 512\n",
            "Trial 51: score = 3184 Maximum Value: 256\n",
            "Trial 52: score = 14616 Maximum Value: 1024\n",
            "Trial 53: score = 12776 Maximum Value: 1024\n",
            "Trial 54: score = 12064 Maximum Value: 1024\n",
            "Trial 55: score = 15336 Maximum Value: 1024\n",
            "Trial 56: score = 10448 Maximum Value: 1024\n",
            "Trial 57: score = 11984 Maximum Value: 1024\n",
            "Trial 58: score = 22736 Maximum Value: 2048\n",
            "Trial 59: score = 7124 Maximum Value: 512\n",
            "Trial 60: score = 2088 Maximum Value: 128\n",
            "Trial 61: score = 16088 Maximum Value: 1024\n",
            "Trial 62: score = 26636 Maximum Value: 2048\n",
            "Trial 63: score = 16200 Maximum Value: 1024\n",
            "Trial 64: score = 15848 Maximum Value: 1024\n",
            "Trial 65: score = 7768 Maximum Value: 512\n",
            "Trial 66: score = 12956 Maximum Value: 1024\n",
            "Trial 67: score = 7404 Maximum Value: 512\n",
            "Trial 68: score = 13868 Maximum Value: 1024\n",
            "Trial 69: score = 16436 Maximum Value: 1024\n",
            "Trial 70: score = 21808 Maximum Value: 2048\n",
            "Trial 71: score = 12568 Maximum Value: 1024\n",
            "Trial 72: score = 11892 Maximum Value: 1024\n",
            "Trial 73: score = 11244 Maximum Value: 1024\n",
            "Trial 74: score = 32312 Maximum Value: 2048\n",
            "Trial 75: score = 5364 Maximum Value: 512\n",
            "Trial 76: score = 6068 Maximum Value: 512\n",
            "Trial 77: score = 12220 Maximum Value: 1024\n",
            "Trial 78: score = 16096 Maximum Value: 1024\n",
            "Trial 79: score = 26940 Maximum Value: 2048\n",
            "Trial 80: score = 12160 Maximum Value: 1024\n",
            "Trial 81: score = 16084 Maximum Value: 1024\n",
            "Trial 82: score = 7360 Maximum Value: 512\n",
            "Trial 83: score = 16068 Maximum Value: 1024\n",
            "Trial 84: score = 12060 Maximum Value: 1024\n",
            "Trial 85: score = 16348 Maximum Value: 1024\n",
            "Trial 86: score = 27212 Maximum Value: 2048\n",
            "Trial 87: score = 15928 Maximum Value: 1024\n",
            "Trial 88: score = 14340 Maximum Value: 1024\n",
            "Trial 89: score = 3132 Maximum Value: 256\n",
            "Trial 90: score = 15464 Maximum Value: 1024\n",
            "Trial 91: score = 23988 Maximum Value: 2048\n",
            "Trial 92: score = 11480 Maximum Value: 1024\n",
            "Trial 93: score = 24516 Maximum Value: 2048\n",
            "Trial 94: score = 7176 Maximum Value: 512\n",
            "Trial 95: score = 7468 Maximum Value: 512\n",
            "Trial 96: score = 12084 Maximum Value: 1024\n",
            "Trial 97: score = 16104 Maximum Value: 1024\n",
            "Trial 98: score = 15132 Maximum Value: 1024\n",
            "Trial 99: score = 5704 Maximum Value: 512\n",
            "Trial 100: score = 3088 Maximum Value: 256\n",
            "Average score over 100 trials: 13403.12\n"
          ]
        }
      ]
    },
    {
      "cell_type": "code",
      "source": [
        "count = 0\n",
        "for i in max_values:\n",
        "  if i == 2048:\n",
        "    count += 1\n",
        "count "
      ],
      "metadata": {
        "colab": {
          "base_uri": "https://localhost:8080/"
        },
        "id": "zcTXt4kArijE",
        "outputId": "0e2f605e-fd8e-425d-8c38-fdf7a61281b1"
      },
      "execution_count": 144,
      "outputs": [
        {
          "output_type": "execute_result",
          "data": {
            "text/plain": [
              "15"
            ]
          },
          "metadata": {},
          "execution_count": 144
        }
      ]
    },
    {
      "cell_type": "code",
      "source": [
        "def plot_list(list_to_plot):\n",
        "    x = range(len(list_to_plot))\n",
        "    y = list_to_plot\n",
        "    plt.scatter(x, y)\n",
        "    plt.show()\n",
        "plot_list(max_values)"
      ],
      "metadata": {
        "colab": {
          "base_uri": "https://localhost:8080/",
          "height": 430
        },
        "id": "iqdKElh2uY8s",
        "outputId": "1849a3b3-9601-4fcc-f16e-905d1f89137c"
      },
      "execution_count": 142,
      "outputs": [
        {
          "output_type": "display_data",
          "data": {
            "text/plain": [
              "<Figure size 640x480 with 1 Axes>"
            ],
            "image/png": "[encoded data removed]"
          },
          "metadata": {}
        }
      ]
    },
    {
      "cell_type": "code",
      "source": [
        "def play_game(agent):\n",
        "    game = Game()\n",
        "    state = preprocess(game.board)\n",
        "    done = False\n",
        "    while not done:\n",
        "        action = agent.act(state, epsilon=0)  # set epsilon=0 to disable exploration\n",
        "        act =['left', 'up', 'right', 'down'][action]\n",
        "        moved, reward = game.move(act)\n",
        "        if not moved:\n",
        "          rand_num = action\n",
        "          while rand_num == action:\n",
        "            rand_num = random.randrange(4)\n",
        "          act =['left', 'up', 'right', 'down'][rand_num]\n",
        "          moved, reward = game.move(act)\n",
        "        clear_output(wait=True)\n",
        "        display_board(game.score, act, game.board)\n",
        "        time.sleep(2)\n",
        "\n",
        "        done = game.game_over\n",
        "    return game.score, game.board"
      ],
      "metadata": {
        "id": "oHvnMTb5o4C9"
      },
      "execution_count": 121,
      "outputs": []
    },
    {
      "cell_type": "code",
      "source": [
        "#Play the game\n",
        "def play():\n",
        "  agent = DQNAgent(16, 4)\n",
        "  agent.model.load_state_dict(torch.load('modelv3.pth'))  # load the saved model\n",
        "  score, board = play_game(agent)\n",
        "  print(\"Game Over!\")\n",
        "  print(\"Final Score:\", score)\n",
        "play()"
      ],
      "metadata": {
        "id": "qVRpUaEf0Vlg",
        "colab": {
          "base_uri": "https://localhost:8080/"
        },
        "outputId": "3656518a-b639-45c3-8e53-cde15db917bd"
      },
      "execution_count": 120,
      "outputs": [
        {
          "output_type": "stream",
          "name": "stdout",
          "text": [
            "\u001b[1mScore:  23148 \t Action: left\u001b[0m\n",
            "+-------+-------+-------+-------+\n",
            "|\t|\t|\t|\t|\n",
            "|  8\t|  16\t|  4\t|  2\t|\n",
            "|\t|\t|\t|\t|\n",
            "+-------+-------+-------+-------+\n",
            "|\t|\t|\t|\t|\n",
            "|  2048\t|  8\t|  16\t|  4\t|\n",
            "|\t|\t|\t|\t|\n",
            "+-------+-------+-------+-------+\n",
            "|\t|\t|\t|\t|\n",
            "|  128\t|  256\t|  4\t|  2\t|\n",
            "|\t|\t|\t|\t|\n",
            "+-------+-------+-------+-------+\n",
            "|\t|\t|\t|\t|\n",
            "|  2\t|  32\t|  64\t|  4\t|\n",
            "|\t|\t|\t|\t|\n",
            "+-------+-------+-------+-------+\n",
            "\n",
            "Game Over!\n",
            "Final Score: 23148\n"
          ]
        }
      ]
    }
  ]
}